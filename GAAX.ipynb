{
  "nbformat": 4,
  "nbformat_minor": 0,
  "metadata": {
    "colab": {
      "name": "GAAX.ipynb",
      "provenance": [],
      "collapsed_sections": [],
      "include_colab_link": true
    },
    "kernelspec": {
      "name": "python3",
      "display_name": "Python 3"
    }
  },
  "cells": [
    {
      "cell_type": "markdown",
      "metadata": {
        "id": "view-in-github",
        "colab_type": "text"
      },
      "source": [
        "<a href=\"https://colab.research.google.com/github/ol8vil/thingsboard/blob/master/GAAX.ipynb\" target=\"_parent\"><img src=\"https://colab.research.google.com/assets/colab-badge.svg\" alt=\"Open In Colab\"/></a>"
      ]
    },
    {
      "cell_type": "code",
      "metadata": {
        "id": "ZIyC_uL1oXf7"
      },
      "source": [
        "import math\n",
        "from sympy import *\n",
        "\n",
        "init_printing(use_unicode=True)"
      ],
      "execution_count": null,
      "outputs": []
    },
    {
      "cell_type": "code",
      "metadata": {
        "id": "Sdi3DsinntcG"
      },
      "source": [
        "PR1 = 20*10**6 # reservoir pressure for 1st well\n",
        "PR2 = 20*10**6 # reservoir pressure for 2nd well \n",
        "PRw1 = 18*10**6 # downhole pressure for 1st well \n",
        "PRw2 = 18*10**6 # downhole pressure for 2nd well\n",
        "R1 = 300 # contour supplement radius for 1st well \n",
        "R2 = 300 # contour supplement radius for 2nd well \n",
        "Rw1 = 0.12 # 1st well’s radius \n",
        "Rw2 = 0.12 # 2nd well’s radius \n",
        "b1 = 140 # vertical distance from 1st well to origin of the coordinates in the intersection area \n",
        "b2 = 140 # vertical distance from 2nd well to origin of the coordinates in the intersection area \n",
        "h1 = 4 # thickness of the reservoir layer \n",
        "h2 = 4 # thickness of the reservoir layer \n",
        "k = 0.63*10**-2 # permeability coefficient \n",
        "μ = 1*10**-2\n",
        "r1z1 = 57.4 # radius on edge of zone 1 for well 1 \n",
        "r1z2 = 262 # radius on edge of zone 2 for well 1 \n",
        "μz1 = 103.4*10**-4 # viscosity on the boarder of the 1st zone \n",
        "μz2 = 141*10**-4 # viscosity on the boarder of the 2nd zone \n",
        "μz3 = 206.9*10**-4 # viscosity on the boarder of the 3rd zone (contour supplement) \n",
        "P1z1 = PR1-((PR1-PRw1) * math.log(R1/r1z1))/math.log(R1/Rw1)# pressure on edge of zone 1 for well 1 \n",
        "P1z2 = PR1-((PR1-PRw1) * math.log(R1/r1z2))/math.log(R1/Rw1)# pressure on edge of zone 2 for well 1 \n",
        "P2z1 = P1z1 # pressure on edge of zone 1 for well 2 \n",
        "P2z2 = P1z2 # pressure on edge of zone 2 for well 2 \n",
        "r2z1 = R2 * (R2/Rw2)**(-(PR2-P2z1)/(PR2-PRw2)) # radius on edge of zone 1 for well 2 \n",
        "r2z2 = R2 * (R2/Rw2)**(-(PR2-P2z2)/(PR2-PRw2)) # radius on edge of zone 2 for well 2 "
      ],
      "execution_count": null,
      "outputs": []
    },
    {
      "cell_type": "code",
      "metadata": {
        "id": "V2fzrR1JsRM8"
      },
      "source": [
        "# Calculate the ratio of the pressure drop over the natural log of the contour\n",
        "# supplement radius over wells radius for both wells\n",
        "DP1 = (PR1 - PRw1) / log(R1 / Rw1)\n",
        "DP2 = (PR2 - PRw2) / log(R2 / Rw2)"
      ],
      "execution_count": null,
      "outputs": []
    },
    {
      "cell_type": "code",
      "metadata": {
        "id": "_EfK58aHtIXv"
      },
      "source": [
        "# define radius for any given point in the intersection area for the 1st and \n",
        "# 2nd well\n",
        "x, y = symbols('x y')\n",
        "r1 = sqrt(x**2 + (y+b1)**2)\n",
        "r2 = sqrt(x**2 + (y-b2)**2)"
      ],
      "execution_count": null,
      "outputs": []
    },
    {
      "cell_type": "code",
      "metadata": {
        "colab": {
          "base_uri": "https://localhost:8080/",
          "height": 50
        },
        "id": "6HXpQwJxfqai",
        "outputId": "f279053a-165a-4da2-b7c9-01bbcb730955"
      },
      "source": [
        "# define Cos[θ] as a function of the angle between the two pressure vectors\n",
        "w = (r1**2 +r2**2 - (b1+b2)**2) / (2*r1*r2)\n",
        "w"
      ],
      "execution_count": null,
      "outputs": [
        {
          "output_type": "execute_result",
          "data": {
            "image/png": "[encoded data removed]",
            "text/latex": "$$\\frac{2 x^{2} + \\left(y - 140\\right)^{2} + \\left(y + 140\\right)^{2} - 78400}{2 \\sqrt{x^{2} + \\left(y - 140\\right)^{2}} \\sqrt{x^{2} + \\left(y + 140\\right)^{2}}}$$",
            "text/plain": [
              "      2            2            2          \n",
              "   2⋅x  + (y - 140)  + (y + 140)  - 78400  \n",
              "───────────────────────────────────────────\n",
              "     _________________    _________________\n",
              "    ╱  2            2    ╱  2            2 \n",
              "2⋅╲╱  x  + (y - 140)  ⋅╲╱  x  + (y + 140)  "
            ]
          },
          "metadata": {
            "tags": []
          },
          "execution_count": 7
        }
      ]
    },
    {
      "cell_type": "code",
      "metadata": {
        "colab": {
          "base_uri": "https://localhost:8080/",
          "height": 89
        },
        "id": "z8zVOJCGoaJo",
        "outputId": "730d5360-0105-4679-e7c9-72d823ac9f04"
      },
      "source": [
        "#define the Net pressure function for both pressure vectors\n",
        "P = sqrt(DP1**2 * log((R1/r1)**2)+DP2**2*log((R2/r2)**2)+2*DP1*DP2*log(R2/r2)*log(R1/r1)*w)\n",
        "P"
      ],
      "execution_count": null,
      "outputs": [
        {
          "output_type": "execute_result",
          "data": {
            "image/png": "[encoded data removed]",
            "text/latex": "$$\\sqrt{65342718660.0492 \\log{\\left (\\frac{90000}{x^{2} + \\left(y - 140\\right)^{2}} \\right )} + 65342718660.0492 \\log{\\left (\\frac{90000}{x^{2} + \\left(y + 140\\right)^{2}} \\right )} + \\frac{65342718660.0492 \\log{\\left (\\frac{300}{\\sqrt{x^{2} + \\left(y - 140\\right)^{2}}} \\right )} \\log{\\left (\\frac{300}{\\sqrt{x^{2} + \\left(y + 140\\right)^{2}}} \\right )}}{\\sqrt{x^{2} + \\left(y - 140\\right)^{2}} \\sqrt{x^{2} + \\left(y + 140\\right)^{2}}} \\left(2 x^{2} + \\left(y - 140\\right)^{2} + \\left(y + 140\\right)^{2} - 78400\\right)}$$",
            "text/plain": [
              "          ____________________________________________________________________\n",
              "         ╱                                                                    \n",
              "        ╱                                                                     \n",
              "       ╱                                                                      \n",
              "      ╱                                                                       \n",
              "     ╱                         ⎛     90000     ⎞                       ⎛     9\n",
              "    ╱      65342718660.0492⋅log⎜───────────────⎟ + 65342718660.0492⋅log⎜──────\n",
              "   ╱                           ⎜ 2            2⎟                       ⎜ 2    \n",
              "  ╱                            ⎝x  + (y - 140) ⎠                       ⎝x  + (\n",
              "╲╱                                                                            \n",
              "\n",
              "______________________________________________________________________________\n",
              "                              ⎛   2            2            2        ⎞    ⎛   \n",
              "             65342718660.0492⋅⎝2⋅x  + (y - 140)  + (y + 140)  - 78400⎠⋅log⎜───\n",
              "                                                                          ⎜   \n",
              "                                                                          ⎜  ╱\n",
              "0000     ⎞                                                                ⎝╲╱ \n",
              "─────────⎟ + ─────────────────────────────────────────────────────────────────\n",
              "        2⎟                                        _________________    _______\n",
              "y + 140) ⎠                                       ╱  2            2    ╱  2    \n",
              "                                               ╲╱  x  + (y - 140)  ⋅╲╱  x  + (\n",
              "\n",
              "_____________________________________________\n",
              "     300         ⎞    ⎛        300         ⎞ \n",
              "─────────────────⎟⋅log⎜────────────────────⎟ \n",
              "_________________⎟    ⎜   _________________⎟ \n",
              "  2            2 ⎟    ⎜  ╱  2            2 ⎟ \n",
              " x  + (y - 140)  ⎠    ⎝╲╱  x  + (y + 140)  ⎠ \n",
              "──────────────────────────────────────────── \n",
              "__________                                   \n",
              "        2                                    \n",
              "y + 140)                                     "
            ]
          },
          "metadata": {
            "tags": []
          },
          "execution_count": 8
        }
      ]
    },
    {
      "cell_type": "code",
      "metadata": {
        "id": "Qmi3rqtXaf0h",
        "colab": {
          "base_uri": "https://localhost:8080/"
        },
        "outputId": "e490cbdc-f7ef-4527-8721-c1449ffc5832"
      },
      "source": [
        "xintersection = (math.sqrt(-(b1+b2)**4+2*R1**2*(b1+b2)**2+2*R2**2*(b1+b2)**2-(R1-R2)**2))/(2*sqrt(b1**2+2*b1*b2+b2**2))\n",
        "yintersection = (-b1**2+b2**2+R1**2-R2**2)/(2*(b1+b2))\n",
        "print(xintersection)\n",
        "print(yintersection)"
      ],
      "execution_count": null,
      "outputs": [
        {
          "output_type": "stream",
          "text": [
            "265.329983228432\n",
            "0.0\n"
          ],
          "name": "stdout"
        }
      ]
    },
    {
      "cell_type": "code",
      "metadata": {
        "colab": {
          "base_uri": "https://localhost:8080/",
          "height": 37
        },
        "id": "s2V9wwFFbgdQ",
        "outputId": "0de1ca8f-a009-4a93-c4d4-b70add193bf6"
      },
      "source": [
        "yP0 = solve(DP1*log(R1/r1.subs(x, 0))-DP2*log(R2/r2.subs(x, 0)),y) # -4.89639*10**-15\r\n",
        "yP0"
      ],
      "execution_count": null,
      "outputs": [
        {
          "output_type": "execute_result",
          "data": {
            "image/png": "[encoded data removed]",
            "text/latex": "$$\\left [ 0.0\\right ]$$",
            "text/plain": [
              "[0.0]"
            ]
          },
          "metadata": {
            "tags": []
          },
          "execution_count": 19
        }
      ]
    }
  ]
}